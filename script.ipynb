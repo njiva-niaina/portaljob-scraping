{
 "cells": [
  {
   "cell_type": "code",
   "execution_count": 1,
   "id": "83d520ef",
   "metadata": {},
   "outputs": [],
   "source": [
    "from selenium import webdriver\n",
    "from selenium.webdriver.common.keys import Keys\n",
    "from selenium.webdriver.common.by import By\n",
    "from selenium.webdriver.support.ui import WebDriverWait\n",
    "from selenium.webdriver.support import expected_conditions as EC\n",
    "from selenium.common.exceptions import NoSuchElementException\n",
    "import datetime \n",
    "import sqlite3"
   ]
  },
  {
   "cell_type": "code",
   "execution_count": 2,
   "id": "5d7e368c",
   "metadata": {},
   "outputs": [],
   "source": [
    "def create_table(db_name, table_name):\n",
    "    db = sqlite3.connect(db_name)\n",
    "    cursor = db.cursor()\n",
    "    cursor.execute(\"CREATE TABLE %s (id INTEGER PRIMARY KEY AUTOINCREMENT, post TEXT, society TEXT, contract_type TEXT, description TEXT)\"%table_name)\n",
    "    db.commit()\n",
    "    db.close()"
   ]
  },
  {
   "cell_type": "code",
   "execution_count": 3,
   "id": "0d51a792",
   "metadata": {},
   "outputs": [],
   "source": [
    "def insert_into(db_name, table_name, data):\n",
    "    db = sqlite3.connect(db_name)\n",
    "    cursor = db.cursor()\n",
    "    cursor.execute(\"INSERT INTO %s (post, society, contract_type, description) VALUES (?, ?, ?, ?)\"%table_name, list(data.values()))\n",
    "    db.commit()\n",
    "    db.close()\n"
   ]
  },
  {
   "cell_type": "code",
   "execution_count": 4,
   "id": "2659385c",
   "metadata": {},
   "outputs": [],
   "source": [
    "def to_int_format(month):\n",
    "    result = 0\n",
    "    if month == 'Janv':\n",
    "        result = 1\n",
    "    elif month == 'Fév':\n",
    "        result = 2\n",
    "    elif month == 'Mars':\n",
    "        result = 3\n",
    "    elif month == 'Avr':\n",
    "        result = 4\n",
    "    elif month == 'Mai':\n",
    "        result = 5\n",
    "    elif month == 'Juin':\n",
    "        result = 6\n",
    "    elif month == 'Juil':\n",
    "        result = 7\n",
    "    elif month == 'Août':\n",
    "        result = 8\n",
    "    elif month == 'Sept':\n",
    "        result = 9\n",
    "    elif month == 'Oct':\n",
    "        result = 10\n",
    "    elif month == 'Nov':\n",
    "        result = 11\n",
    "    elif month == 'Déc':\n",
    "        result = 12\n",
    "    return result"
   ]
  },
  {
   "cell_type": "code",
   "execution_count": 5,
   "id": "ab2d646c",
   "metadata": {},
   "outputs": [],
   "source": [
    "PATH = '/usr/local/bin/chromedriver'"
   ]
  },
  {
   "cell_type": "code",
   "execution_count": 6,
   "id": "141313b8",
   "metadata": {},
   "outputs": [],
   "source": [
    "driver = webdriver.Chrome(PATH)\n",
    "driver.get(\"https://www.portaljob-madagascar.com/\")"
   ]
  },
  {
   "cell_type": "code",
   "execution_count": 7,
   "id": "65514b9b",
   "metadata": {},
   "outputs": [],
   "source": [
    "KEY = \"Python\""
   ]
  },
  {
   "cell_type": "code",
   "execution_count": 8,
   "id": "647fec52",
   "metadata": {},
   "outputs": [],
   "source": [
    "search = driver.find_element_by_id(\"search_keywords\")\n",
    "search.send_keys(KEY)\n",
    "search.send_keys(Keys.RETURN)"
   ]
  },
  {
   "cell_type": "code",
   "execution_count": 9,
   "id": "556ffe7c",
   "metadata": {},
   "outputs": [
    {
     "name": "stdout",
     "output_type": "stream",
     "text": [
      "All script executed\n",
      "All script executed\n",
      "All script executed\n",
      "All script executed\n",
      "All script executed\n",
      "All script executed\n",
      "All script executed\n",
      "All script executed\n",
      "All script executed\n",
      "All script executed\n"
     ]
    }
   ],
   "source": [
    "try:\n",
    "    main = WebDriverWait(driver, 10).until(\n",
    "        EC.presence_of_element_located((By.CLASS_NAME, 'max'))\n",
    "    )\n",
    "    articles = main.find_elements_by_tag_name('article')\n",
    "    for article in articles:\n",
    "        year = article.find_element_by_class_name(\"annee\")\n",
    "        month = article.find_element_by_class_name(\"mois\")\n",
    "        day_section = article.find_element_by_class_name(\"date\")\n",
    "        day = day_section.find_element_by_tag_name(\"b\")\n",
    "        date = datetime.date(int(year.text), to_int_format(month.text), int(day.text))\n",
    "        today = datetime.date.today()\n",
    "        if date.year == today.year:\n",
    "            main_window = driver.current_window_handle\n",
    "            header = article.find_element_by_tag_name(\"h3\")\n",
    "            post = header.find_element_by_tag_name(\"strong\")\n",
    "            society = article.find_element_by_tag_name(\"h4\")\n",
    "            contract_type = article.find_element_by_tag_name(\"h5\")\n",
    "            description = article.find_element_by_class_name(\"description\")\n",
    "            data = {}\n",
    "            data['post'] = post.text\n",
    "            data['society'] = society.text\n",
    "            data['contract_type'] = contract_type.text\n",
    "            data['description'] = description.text\n",
    "            try:\n",
    "                create_table('database.db', KEY.replace(' ','_'))\n",
    "                insert_into('database.db', KEY.replace(' ','_'), data)\n",
    "            except:\n",
    "                insert_into('database.db', KEY.replace(' ','_'), data)\n",
    "            link = header.find_element_by_tag_name(\"a\")\n",
    "            link.send_keys(Keys.CONTROL + Keys.RETURN)\n",
    "            print(\"All script executed\")\n",
    "finally:\n",
    "    pass"
   ]
  },
  {
   "cell_type": "code",
   "execution_count": null,
   "id": "9bfaa152",
   "metadata": {},
   "outputs": [],
   "source": []
  }
 ],
 "metadata": {
  "kernelspec": {
   "display_name": "Python 3",
   "language": "python",
   "name": "python3"
  },
  "language_info": {
   "codemirror_mode": {
    "name": "ipython",
    "version": 3
   },
   "file_extension": ".py",
   "mimetype": "text/x-python",
   "name": "python",
   "nbconvert_exporter": "python",
   "pygments_lexer": "ipython3",
   "version": "3.8.5"
  }
 },
 "nbformat": 4,
 "nbformat_minor": 5
}
